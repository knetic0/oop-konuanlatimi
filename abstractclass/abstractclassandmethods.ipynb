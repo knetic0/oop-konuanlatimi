{
  "nbformat": 4,
  "nbformat_minor": 0,
  "metadata": {
    "colab": {
      "provenance": []
    },
    "kernelspec": {
      "name": "python3",
      "display_name": "Python 3"
    },
    "language_info": {
      "name": "python"
    }
  },
  "cells": [
    {
      "cell_type": "markdown",
      "source": [
        "#<center> Abstract Class and Abstract Methods </center>\n",
        "\n",
        "\n",
        "***Bir veya daha fazla abstractmethod tanimlamasi barindiran classlardir.\n",
        "abstractmethod ise tanimli bir method olup iceriginin olmamasi durumudur.\n",
        "Yani bir ornek vermek istersek;\n",
        "        Evde mutfak olmali ama ne tarzda olacagi ya da ne kadar buyuk olacagi belirtilmez.\n",
        "        Ya da okula_git() fonksiyonunu dusunelim. Okula gidilmeli ama nasil gidicelegi belirtilmez.***\n",
        "        \n",
        "\n",
        "***Yani ne olursa olsun biz bu fonksiyonu kullanmaliyiz ama icerigini istedigimiz sekilde degistirebilir, yaratabiliriz.***\n",
        "    \n",
        "```\n",
        "    Bazi Kurallar:\n",
        "\n",
        "        1- Abstract class'larda tanimladigimiz abstractmethod'u miras aldigimiz class'ta kullanmasak hata ile karsilasiriz. \n",
        "        Yani miras alindiginda miras aldigimiz class bu abstractmethodu kullanmali.\n",
        "        \n",
        "        2- Abstact Class'lar subclasslara ihtiyac duyarlar. Yani miras alinmalidirlar.\n",
        "        \n",
        "    Peki Neden Abstract Class ve Method kullaniyoruz ?\n",
        "    \n",
        "            Bir duzen oturtmus oluyoruz aslinda. Bir odeme sistemi dusunelim. Bu odeme sisteminin alt yapisi degistiginde\n",
        "        Abstractclass'tan miras aldigimiz odeme_yap() abstract methodu yeni alt yapida zorunlu fonksiyon haline gelecektir.\n",
        "        Hangi alt yapi kullanilirsa kullanilsin odeme_yap() fonksiyonunu bu isimde kullanmalisiniz ama icerigi degisebilir.\n",
        "```\n",
        "         \n",
        "\n"
      ],
      "metadata": {
        "id": "ud3RChAAxWlT"
      }
    },
    {
      "cell_type": "code",
      "execution_count": 3,
      "metadata": {
        "id": "JpltLU5jxOri"
      },
      "outputs": [],
      "source": [
        "from abc import ABC, abstractmethod\n",
        "\n",
        "class Computer(ABC):\n",
        "    def __init__(self, brand, cpu, ram, gpu):\n",
        "        self.brand = brand \n",
        "        self.cpu = cpu \n",
        "        self.ram = ram \n",
        "        self.gpu = gpu \n",
        "    \n",
        "    @property\n",
        "    def print_information(self):\n",
        "        return f\"{self.brand} \\t {self.cpu} \\t {self.ram} \\t {self.gpu}\"\n",
        "    \n",
        "    @abstractmethod\n",
        "    def get_price(self):\n",
        "        pass     \n",
        "    \n",
        "class Laptop(Computer):\n",
        "    def __init__(self, brand, cpu, ram, gpu, price):\n",
        "        super().__init__(brand, cpu, ram, gpu)\n",
        "        self.price = price \n",
        "        \n",
        "    def get_price(self):\n",
        "        return f\"{self.brand} Laptop Price : {self.price}\"\n",
        "    \n",
        "class Desktop(Computer):\n",
        "    def __init__(self, brand, cpu, ram, gpu, price):\n",
        "        super().__init__(brand, cpu, ram, gpu)\n",
        "        self.price = price \n",
        "        \n",
        "    def get_price(self):\n",
        "        return f\"{self.brand} Computer Price : {self.price}\"\n",
        "\n",
        "class SuperComputer(Computer):\n",
        "    def __init__(self, brand, cpu, ram, gpu, price):\n",
        "      super().__init__(brand, cpu, ram, gpu)\n",
        "      self.price = price"
      ]
    },
    {
      "cell_type": "code",
      "source": [
        "l = Laptop(\"Honor\", \"Intel Core i5 10.Generation\", \"8 GB DDr4\", \"Internal\", 8500)\n",
        "print(l.print_information)\n",
        "print(l.get_price())\n",
        "print()\n",
        "d = Desktop(\"Assembled\", \"AMD Ryzen 5 2600\", \"16 GB DDr4\", \"RX 580 Sapphire Pulse 8 GB\", 12500)\n",
        "print(d.print_information)\n",
        "print(d.get_price())"
      ],
      "metadata": {
        "colab": {
          "base_uri": "https://localhost:8080/"
        },
        "id": "3aQ0ndA4yDYJ",
        "outputId": "3ea934ad-f943-4eb2-f576-0093e1920663"
      },
      "execution_count": 2,
      "outputs": [
        {
          "output_type": "stream",
          "name": "stdout",
          "text": [
            "Honor \t Intel Core i5 10.Generation \t 8 GB DDr4 \t Internal\n",
            "Honor Laptop Price : 8500\n",
            "\n",
            "Assembled \t AMD Ryzen 5 2600 \t 16 GB DDr4 \t RX 580 Sapphire Pulse 8 GB\n",
            "Assembled Computer Price : 12500\n"
          ]
        }
      ]
    },
    {
      "cell_type": "code",
      "source": [
        "sc = SuperComputer(\"Assembled\", \"Intel Core i11 12.Generation\", \"64 GB DDr4\", \"RTX 4090 24 GB\", 75000)\n",
        "sc.print_information"
      ],
      "metadata": {
        "colab": {
          "base_uri": "https://localhost:8080/",
          "height": 184
        },
        "id": "rjTWpnuizglx",
        "outputId": "ac70d835-e1ea-429a-ff03-f42abfb41963"
      },
      "execution_count": 4,
      "outputs": [
        {
          "output_type": "error",
          "ename": "TypeError",
          "evalue": "ignored",
          "traceback": [
            "\u001b[0;31m---------------------------------------------------------------------------\u001b[0m",
            "\u001b[0;31mTypeError\u001b[0m                                 Traceback (most recent call last)",
            "\u001b[0;32m<ipython-input-4-45250904fd97>\u001b[0m in \u001b[0;36m<module>\u001b[0;34m\u001b[0m\n\u001b[0;32m----> 1\u001b[0;31m \u001b[0msc\u001b[0m \u001b[0;34m=\u001b[0m \u001b[0mSuperComputer\u001b[0m\u001b[0;34m(\u001b[0m\u001b[0;34m\"Assembled\"\u001b[0m\u001b[0;34m,\u001b[0m \u001b[0;34m\"Intel Core i11 12.Generation\"\u001b[0m\u001b[0;34m,\u001b[0m \u001b[0;34m\"64 GB DDr4\"\u001b[0m\u001b[0;34m,\u001b[0m \u001b[0;34m\"RTX 4090 24 GB\"\u001b[0m\u001b[0;34m,\u001b[0m \u001b[0;36m75000\u001b[0m\u001b[0;34m)\u001b[0m\u001b[0;34m\u001b[0m\u001b[0;34m\u001b[0m\u001b[0m\n\u001b[0m\u001b[1;32m      2\u001b[0m \u001b[0msc\u001b[0m\u001b[0;34m.\u001b[0m\u001b[0mprint_information\u001b[0m\u001b[0;34m\u001b[0m\u001b[0;34m\u001b[0m\u001b[0m\n",
            "\u001b[0;31mTypeError\u001b[0m: Can't instantiate abstract class SuperComputer with abstract methods get_price"
          ]
        }
      ]
    }
  ]
}