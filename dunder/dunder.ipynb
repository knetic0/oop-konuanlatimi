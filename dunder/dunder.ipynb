{
  "nbformat": 4,
  "nbformat_minor": 0,
  "metadata": {
    "colab": {
      "provenance": []
    },
    "kernelspec": {
      "name": "python3",
      "display_name": "Python 3"
    },
    "language_info": {
      "name": "python"
    }
  },
  "cells": [
    {
      "cell_type": "markdown",
      "source": [
        "\n",
        "<center>\n",
        "\n",
        "# **Dunder Metotları**\n",
        "\n",
        "* **Öncelikle kavramların ne anlama geldiğini anlamaya çalışalım. Hatırlarsak __init__ metodunda hem önek hemde sonek olmak üzere çift altçizgi bulunmaktaydı. Python’da bu alt çizgilerin kullanımına Double Underscore (Çift Altçizgi) denilmektedir. Dunder ise Double Underscore’un bir kısaltması şeklindedir. Buradan şunu anlayabiliriz: __init__ metodu bir Dunder metottur. Bu metotlara Python kullanıcıları arasında Magic (Sihirli) metotlar da denilmektedir. Fakat şunu bilmekte fayda var: Python dokümantasyonunda bu metotlar için Dunder ya da Magic metot ifadeleri geçmemektedir. Bu metotlara “Special Method” denilmektedir. Bu metotları özel kılan şey ise biz kullanıcılara sağladıkları faydalardır diyebiliriz. En sık kullanılan __init__ metodunu düşündüğümüzde, bu metotlar özel olmayı hak ediyor diyebiliriz.**\n",
        "\n",
        "* **Örneğimizin detayına girmeden, burada bizi ilgilendiren, Calisanlar() sınıfından yaratmış olduğumuz calisan_1 örnekleminin sahip olduğu Özellikler (Properties) ve Metotlar (Methods)’dır. Özellik olarak listemizin sonunda bulunan ‘isim’ ve ‘soyisim‘, metot olarak ise listemizin diğer elemanlarını aşağıda görebiliriz. Bu listede yer alan ve Çift Altçizgi (Double Underscore) ile belirtilmiş olan metotlar bizim Özel Metot (Special Methods) ya da Dunder/Magic metot dediğimiz metotlardır. Listede ayrıca __init__ metodunun da bulunduğuna dikkat edebiliriz. Biz aslında OOP dersleri boyunca __init__ özel metodunu sürekli kullandık.**\n",
        "\n",
        "> https://omerdemirarslan.com/16-python-oopde-dunder-magic-metot-kavrami/"
      ],
      "metadata": {
        "id": "C_GGh3MNCucv"
      }
    },
    {
      "cell_type": "code",
      "source": [
        "class Ogrenci:\n",
        "  def __init__(self, isim, soyisim):\n",
        "    self.isim = isim\n",
        "    self.soyisim = soyisim\n",
        "\n",
        "  def Yazdir(self):\n",
        "    return f\"{self.isim} , {self.soyisim}\""
      ],
      "metadata": {
        "id": "uQX2CQg-DNLH"
      },
      "execution_count": 1,
      "outputs": []
    },
    {
      "cell_type": "code",
      "source": [
        "ogr_1 = Ogrenci(\"Mehmet\", \"SOLAK\")\n",
        "print(ogr_1.Yazdir())"
      ],
      "metadata": {
        "colab": {
          "base_uri": "https://localhost:8080/"
        },
        "id": "RNbQSGzxDa1P",
        "outputId": "b169f8d7-3f4b-46e9-e01e-3b46cbfdcfde"
      },
      "execution_count": 3,
      "outputs": [
        {
          "output_type": "stream",
          "name": "stdout",
          "text": [
            "Mehmet , SOLAK\n"
          ]
        }
      ]
    },
    {
      "cell_type": "code",
      "source": [
        "print(dir(Ogrenci))"
      ],
      "metadata": {
        "colab": {
          "base_uri": "https://localhost:8080/"
        },
        "id": "BdVFnlGrDnMf",
        "outputId": "13144a91-4fa0-444d-e0fe-b471f63999d2"
      },
      "execution_count": 4,
      "outputs": [
        {
          "output_type": "stream",
          "name": "stdout",
          "text": [
            "['Yazdir', '__class__', '__delattr__', '__dict__', '__dir__', '__doc__', '__eq__', '__format__', '__ge__', '__getattribute__', '__gt__', '__hash__', '__init__', '__init_subclass__', '__le__', '__lt__', '__module__', '__ne__', '__new__', '__reduce__', '__reduce_ex__', '__repr__', '__setattr__', '__sizeof__', '__str__', '__subclasshook__', '__weakref__']\n"
          ]
        }
      ]
    },
    {
      "cell_type": "code",
      "source": [
        "class Personel:\n",
        "  def __init__(self, isim, soyisim):\n",
        "    self.isim = isim\n",
        "    self.soyisim = soyisim\n",
        "  \n",
        "  def __repr__(self):\n",
        "    return f\"Isim: {self.isim} Soyisim: {self.soyisim}\"\n",
        "\n",
        "  def __add__(self, other):\n",
        "    return self.isim + other.isim"
      ],
      "metadata": {
        "id": "evqO95ggEMpz"
      },
      "execution_count": 19,
      "outputs": []
    },
    {
      "cell_type": "code",
      "source": [
        "p1 = Personel(\"Dogukan\", \"AKSOY\")\n",
        "print(p1)\n",
        "\n",
        "print(\"*-\"*25)\n",
        "\n",
        "p2 = Personel(\"Mehmet\", \"SOLAK\")\n",
        "print(p2)\n",
        "\n",
        "print(\"*-\"*25)\n",
        "\n",
        "print(p1 + p2) "
      ],
      "metadata": {
        "colab": {
          "base_uri": "https://localhost:8080/"
        },
        "id": "shDaD1h7EewI",
        "outputId": "95cd035b-d827-4451-d3dc-1b9c4fbcbb72"
      },
      "execution_count": 15,
      "outputs": [
        {
          "output_type": "stream",
          "name": "stdout",
          "text": [
            "Isim: Dogukan Soyisim: AKSOY\n",
            "*-*-*-*-*-*-*-*-*-*-*-*-*-*-*-*-*-*-*-*-*-*-*-*-*-\n",
            "Isim: Mehmet Soyisim: SOLAK\n",
            "*-*-*-*-*-*-*-*-*-*-*-*-*-*-*-*-*-*-*-*-*-*-*-*-*-\n",
            "DogukanMehmet\n"
          ]
        }
      ]
    }
  ]
}