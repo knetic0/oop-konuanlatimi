{
  "nbformat": 4,
  "nbformat_minor": 0,
  "metadata": {
    "colab": {
      "provenance": []
    },
    "kernelspec": {
      "name": "python3",
      "display_name": "Python 3"
    },
    "language_info": {
      "name": "python"
    }
  },
  "cells": [
    {
      "cell_type": "markdown",
      "source": [
        "\n",
        "# Nesne Yönelimli Programlama | Kalıtım Nedir ?\n",
        "\n",
        "**Nesne yönelimli programlama (OOP) dillerindeki temel kavramlardan biri kalıtımdır. Başka bir sınıftan bir sınıf türeterek bir dizi özelliği ve yöntemi paylaşan bir sınıflar hiyerarşisi oluşturmanıza izin veren bir mekanizmadır. Kalıtım, bir sınıfın özellikleri başka bir sınıftan türetme veya miras alma yeteneğidir.**\n",
        "\n",
        "**Mirasın faydaları şunlardır:**\n",
        "* Gerçek dünya ilişkilerini iyi temsil eder.\n",
        "* Bir kodun tekrar kullanılabilirliğini sağlar. Aynı kodu tekrar tekrar yazmak zorunda değiliz. Ayrıca, bir sınıfa onu değiştirmeden daha fazla özellik eklememize izin verir.\n",
        "* Doğası gereği geçişlidir, yani B sınıfı başka bir A sınıfından miras alırsa, B'nin tüm alt sınıfları otomatik olarak A sınıfından miras alır.\n",
        "* Kalıtım basit, anlaşılır bir model yapısı sunar.\n",
        "* Daha az geliştirme ve bakım giderleri mirastan kaynaklanır."
      ],
      "metadata": {
        "id": "pssgUmpC4HUA"
      }
    },
    {
      "cell_type": "code",
      "source": [
        "class Person:\n",
        "  def __init__(self, isim, soyisim, yas):\n",
        "    self.isim = isim\n",
        "    self.soyisim = soyisim\n",
        "    self.yas = yas\n",
        "\n",
        "  def Yazdir(self):\n",
        "    return f\"{self.isim} {self.soyisim} {self.yas}\""
      ],
      "metadata": {
        "id": "-Rqb6tRL4ksp"
      },
      "execution_count": 1,
      "outputs": []
    },
    {
      "cell_type": "code",
      "source": [
        "p1 = Person(\"Mehmet\", \"SOLAK\", 19)\n",
        "p1.Yazdir()"
      ],
      "metadata": {
        "colab": {
          "base_uri": "https://localhost:8080/",
          "height": 35
        },
        "id": "817bPx3H4yZf",
        "outputId": "c7179032-51ba-4ed8-b551-e6c7d5c0f3f0"
      },
      "execution_count": 2,
      "outputs": [
        {
          "output_type": "execute_result",
          "data": {
            "text/plain": [
              "'Mehmet SOLAK 19'"
            ],
            "application/vnd.google.colaboratory.intrinsic+json": {
              "type": "string"
            }
          },
          "metadata": {},
          "execution_count": 2
        }
      ]
    },
    {
      "cell_type": "markdown",
      "source": [
        "**Person Sınıfı Oluşturuldu. isim, soyisim ve yas parametrelerini alan Person sınıfı Yazdir adlı bir Method içermektedir. Aşağıda Person Sınıfından bir sınıf daha üreticez. Ürettiğimiz sınıf Person sınıfından doğmuş olucak ve bu sayede Person sınıfındaki Methodlara ve parametrelere erişim sağlayabiliceğiz.**"
      ],
      "metadata": {
        "id": "LVtdDsGr5mjL"
      }
    },
    {
      "cell_type": "code",
      "source": [
        "class Ogrenci(Person):\n",
        "  def __init__(self, isim, soyisim, yas):\n",
        "    super().__init__(isim, soyisim, yas)\n",
        "\n",
        "  def __str__(self):\n",
        "    return f\"Ogrenci Sinifi Cagrildi.\""
      ],
      "metadata": {
        "id": "JtiUQ78o5Ai7"
      },
      "execution_count": 3,
      "outputs": []
    },
    {
      "cell_type": "code",
      "source": [
        "ogr_1 = Ogrenci(\"Dogukan\", \"AKSOY\", 20)\n",
        "print(ogr_1)"
      ],
      "metadata": {
        "colab": {
          "base_uri": "https://localhost:8080/"
        },
        "id": "M9ZtH0Jp5XOz",
        "outputId": "7328063b-8225-479a-e9b8-040752e4146e"
      },
      "execution_count": 6,
      "outputs": [
        {
          "output_type": "stream",
          "name": "stdout",
          "text": [
            "Ogrenci Sinifi Cagrildi.\n"
          ]
        }
      ]
    },
    {
      "cell_type": "code",
      "source": [
        "ogr_1.Yazdir()"
      ],
      "metadata": {
        "colab": {
          "base_uri": "https://localhost:8080/",
          "height": 35
        },
        "id": "GpFGlAar5h1p",
        "outputId": "bab609b3-c377-44f4-ae91-a31fd7f1a4ff"
      },
      "execution_count": 7,
      "outputs": [
        {
          "output_type": "execute_result",
          "data": {
            "text/plain": [
              "'Dogukan AKSOY 20'"
            ],
            "application/vnd.google.colaboratory.intrinsic+json": {
              "type": "string"
            }
          },
          "metadata": {},
          "execution_count": 7
        }
      ]
    },
    {
      "cell_type": "code",
      "source": [
        "class Personel(Person):\n",
        "  def __init__(self, isim, soyisim, yas):\n",
        "    Person.__init__(self, isim, soyisim, yas)\n",
        "\n",
        "  def __str__(self):\n",
        "    return f\"Personel Sinifi Cagrildi.\""
      ],
      "metadata": {
        "id": "JyRN2Ial6GMe"
      },
      "execution_count": 14,
      "outputs": []
    },
    {
      "cell_type": "code",
      "source": [
        "per_1 = Personel(\"Mehmet\", \"SOLAK\", 19)\n",
        "print(per_1)"
      ],
      "metadata": {
        "colab": {
          "base_uri": "https://localhost:8080/"
        },
        "id": "HJU5dKvT6Xec",
        "outputId": "6e8806a2-a03f-45d2-d457-17864a63fa01"
      },
      "execution_count": 15,
      "outputs": [
        {
          "output_type": "stream",
          "name": "stdout",
          "text": [
            "Personel Sinifi Cagrildi.\n"
          ]
        }
      ]
    },
    {
      "cell_type": "code",
      "source": [
        "per_1.Yazdir()"
      ],
      "metadata": {
        "colab": {
          "base_uri": "https://localhost:8080/",
          "height": 35
        },
        "id": "UKH_xxMn6cSE",
        "outputId": "9fdb6006-e775-41c9-c904-26d448dbbfd9"
      },
      "execution_count": 16,
      "outputs": [
        {
          "output_type": "execute_result",
          "data": {
            "text/plain": [
              "'Mehmet SOLAK 19'"
            ],
            "application/vnd.google.colaboratory.intrinsic+json": {
              "type": "string"
            }
          },
          "metadata": {},
          "execution_count": 16
        }
      ]
    },
    {
      "cell_type": "code",
      "source": [
        "# parent class\n",
        "class Person(object):\n",
        " \n",
        "    # __init__ is known as the constructor\n",
        "    def __init__(self, name, idnumber):\n",
        "        self.name = name\n",
        "        self.idnumber = idnumber\n",
        " \n",
        "    def display(self):\n",
        "        print(self.name)\n",
        "        print(self.idnumber)\n",
        " \n",
        "# child class\n",
        " \n",
        " \n",
        "class Employee(Person):\n",
        "    def __init__(self, name, idnumber, salary, post):\n",
        "        self.salary = salary\n",
        "        self.post = post\n",
        " \n",
        "        # invoking the __init__ of the parent class\n",
        "        Person.__init__(self, name, idnumber)\n",
        " \n",
        " \n",
        "# creation of an object variable or an instance\n",
        "a = Employee('Mehmet', 20217170022, 200000, \"Intern\")\n",
        " \n",
        "# calling a function of the class Person using its instance\n",
        "a.display()"
      ],
      "metadata": {
        "colab": {
          "base_uri": "https://localhost:8080/"
        },
        "id": "1vpiLqr18PYQ",
        "outputId": "d3a8e642-e6f1-41a1-d959-119c0b2fb52e"
      },
      "execution_count": 21,
      "outputs": [
        {
          "output_type": "stream",
          "name": "stdout",
          "text": [
            "Mehmet\n",
            "20217170022\n"
          ]
        }
      ]
    },
    {
      "cell_type": "markdown",
      "source": [
        "> https://www.geeksforgeeks.org/inheritance-in-python/"
      ],
      "metadata": {
        "id": "Qreskive8oUr"
      }
    }
  ]
}