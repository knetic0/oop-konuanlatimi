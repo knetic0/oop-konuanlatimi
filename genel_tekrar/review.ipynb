{
  "nbformat": 4,
  "nbformat_minor": 0,
  "metadata": {
    "colab": {
      "provenance": [],
      "collapsed_sections": []
    },
    "kernelspec": {
      "name": "python3",
      "display_name": "Python 3"
    },
    "language_info": {
      "name": "python"
    }
  },
  "cells": [
    {
      "cell_type": "markdown",
      "source": [
        "<center>\n",
        "\n",
        "> # ``` OOP Nedir ? ```\n",
        "\n",
        "---\n",
        "\n",
        "<br>\n",
        "\n",
        "*   **Aslında gerçek hayattan örnekler ile ilerlemek daha faydalı olacaktır. Gerçek hayatta kullanılan herşey birer nesne (obje) dir. \n",
        "Mesela telefonumuz bir nesnedir. Bu nesnenin belirli özellikleri ve yaptığı işlevler vardır. \n",
        "Telefonunuzun markası , şarj süresi ve depolama kapasitesi onun özellikleridir. <br> \n",
        "Telefonunuz ile fotoğraf çekmeniz ve arama yapmanızda bu nesnenin davranışları ve faaliyetleridir. \n",
        "Bizim Python’da oluşturacağımız nesnelerin de özellikleri (attributes) ve davranışları (methods) olacak. <br>** \n",
        "\n",
        "<br>\n",
        "\n",
        "\n",
        "<img src=\"https://nonlineardata.com/wp-content/uploads/2020/11/OOP_class3.png\"/>\n",
        "\n",
        "\n",
        "\n",
        "<br>\n",
        "\n",
        "> https://medium.com/rexven/python-ile-nesne-tabanl%C4%B1-programlama-object-oriented-programming-232134543e7f\n",
        "\n",
        "<br>\n",
        "\n",
        "\n",
        "> # ``` Peki OOP Ne işimize yarar ? ```\n",
        "\n",
        "---\n",
        "\n",
        "<br>\n",
        "\n",
        "\n",
        "*   **Nesne oluşturma bir sınıf içerisinde toplanır ve tüm projelerde \n",
        "kullanılabilirliğe olanak sağlar.**\n",
        "*   **Sınıfların 1 kez oluşturulması sayesinde uzun kodları tekrardan yazmak yerine kısa kodlamalar ile çalıştırılabilir.\n",
        "Uzun kodların tekrar yazılmasının engellenmesi sayesinde geliştirme süreci kısalır.**\n",
        "*   **Nesneler birbirinden bağımsız olduğundan bilgi gizliliği konusunda avantaj sağlar.**\n",
        "*   **Sınıflar sayesinde tüm projelerde değişiklik yapmak yerine tek bir sınıfta değişiklik yapılıp tüm projelerde çalışması sağlanır. Bu zaman kaybını büyük ölçüde azaltır.**\n",
        "  \n",
        "<br>\n",
        "\n",
        "> https://medium.com/rexven/python-ile-nesne-tabanl%C4%B1-programlama-object-oriented-programming-232134543e7f\n",
        "\n",
        "<br>\n",
        "\n",
        "> # ```Kısacası OOP```\n",
        "\n",
        "---\n",
        "\n",
        "<br>\n",
        "\n",
        "* **Sınıf, nesnelerin bir koleksiyonudur. Bir sınıf, nesnelerin oluşturulduğu planları veya prototipi içerir. Bazı öznitelikleri ve yöntemleri içeren mantıksal bir varlıktır.**\n",
        "\n",
        "* **Bir sınıf oluşturma ihtiyacını anlamak için bir örnek düşünelim, diyelim ki cins, yaş gibi farklı özelliklere sahip olabilecek köpeklerin sayısını takip etmek istediniz. Bir liste kullanılırsa, ilk öğe köpeğin cinsi olabilir, ikinci öğe ise yaşını temsil edebilir. Diyelim ki 100 farklı köpek var, o zaman hangi elementin hangisi olduğunu nasıl bileceksiniz? Bu köpeklere başka özellikler eklemek isterseniz ne olur? Bu, organizasyondan yoksundur ve sınıflar için tam ihtiyaçtır.**\n",
        "\n",
        "<br>\n",
        "\n",
        "<img src=\"https://cdn.ttgtmedia.com/rms/German/Objektorientierte-Programmierung-deutsch_half_column_mobile.png\" />\n",
        "\n",
        "<br>\n",
        "\n",
        "> https://www.geeksforgeeks.org/python-oops-concepts/#:~:text=In%20Python%2C%20object%2Doriented%20Programming,%2C%20etc.%20in%20the%20programming.\n",
        "\n",
        "<br>\n",
        "\n",
        "\n",
        "> # ```Constructor nedir ? Class ve Instance Variable nedir ?```\n",
        "\n",
        "---\n",
        "\n",
        "<br>\n",
        "\n",
        "* **Constructorlar genellikle bir nesneyi başlatmak için kullanılır. Yapıcıların görevi, sınıfın bir nesnesi oluşturulduğunda sınıfın veri üyelerine ilk değeri vermektir (değerleri atamaktır). Python'da \\__init__() yöntemine constructor denir ve bir nesne oluşturulduğunda her zaman çağrılır.**\n",
        "\n",
        "<br>\n",
        "\n",
        "> https://www.geeksforgeeks.org/constructors-in-python/\n",
        "\n",
        "<br>\n",
        "\n",
        "* **Class Variables — Sınıf tanımının içinde (ancak herhangi bir örnek yönteminin dışında) bildirilir. Sınıfın belirli bir nesnesine bağlı değildirler, dolayısıyla sınıfın tüm nesneleri arasında paylaşılırlar. Bir sınıf değişkenini değiştirmek, aynı anda tüm nesne örneğini etkiler.**\n",
        "\n",
        "* **Instance Variables — Sınıfın yapıcı yönteminde (__init__ yöntemi) atanırlar. Sınıfın belirli nesne örneğine bağlıdırlar, dolayısıyla bir örnek değişkenin içeriği bir nesne örneğinden diğerine tamamen bağımsızdır.**\n",
        "\n",
        "<br>\n",
        "\n",
        "> https://medium.com/python-features/class-vs-instance-variables-8d452e9abcbd\n",
        "\n",
        "<br>\n",
        "\n",
        "> # ```Decorator, Property, Class Method, Static Method nedir ?```\n",
        "\n",
        "---\n",
        "\n",
        "<br>\n",
        "\n",
        "* **Dekoratörler, programcıların bir fonksiyonun veya sınıfın davranışını değiştirmesine izin verdiği için Python'da çok güçlü ve kullanışlı bir araçtır. Dekoratörler, sarılmış işlevin davranışını kalıcı olarak değiştirmeden genişletmek için başka bir işlevi sarmamıza izin verir. Ancak dekoratörlerin derinliklerine dalmadan önce, dekoratörleri öğrenmede kullanışlı olacak bazı kavramları anlayalım.**\n",
        "\n",
        "<br>\n",
        "\n",
        "> https://www.geeksforgeeks.org/decorators-in-python/\n",
        "\n",
        "<br>\n",
        "\n",
        "* **Python'un property(), kodunuzdaki resmi alıcı ve ayarlayıcı yöntemlerinden kaçınmanın Pythonic yoludur. Bu işlev, sınıf özniteliklerini özelliklere veya yönetilen özniteliklere dönüştürmenize olanak tanır. property() yerleşik bir işlev olduğundan, onu hiçbir şeyi içe aktarmadan kullanabilirsiniz. Ek olarak, en iyi performansı sağlamak için C'de property() uygulandı.**\n",
        "\n",
        "<br>\n",
        "\n",
        "> https://realpython.com/python-property/\n",
        "\n",
        "<br>\n",
        "\n",
        "* **Sınıf yöntemi, nesnesinden ziyade bir sınıfa bağlı bir yöntemdir. Statik yöntem gibi bir sınıf örneğinin oluşturulmasını gerektirmez.**\n",
        "\n",
        "#**Statik bir yöntem ile bir sınıf yöntemi arasındaki fark şudur:**\n",
        "\n",
        "* **Statik metot, sınıf hakkında hiçbir şey bilmez ve sadece parametrelerle ilgilenir.**\n",
        "* **Class yöntemi, parametresi her zaman sınıfın kendisi olduğu için sınıfla birlikte çalışır.**\n",
        "* **Sınıf yöntemi, hem sınıf hem de nesnesi tarafından çağrılabilir.**\n",
        "\n",
        "<br>\n",
        "\n",
        "> https://www.programiz.com/python-programming/methods/built-in/classmethod\n",
        "\n",
        "<br>\n",
        "\n",
        "> # ```Self ve cls nedir ?```\n",
        "\n",
        "* **Self, sınıfın örneğini temsil eder. “self”i kullanarak, python'daki sınıfın niteliklerine ve yöntemlerine erişebiliriz. Nitelikleri verilen argümanlarla bağlar.**\n",
        "\n",
        "<br>\n",
        "\n",
        "> https://www.geeksforgeeks.org/self-in-python-class/\n",
        "\n",
        "<br>\n",
        "\n",
        "* **Instance method'lara yönelik ilk argüman için her zaman self kullanın.**\n",
        "\n",
        "* **Class method'ların ilk argümanı için her zaman cls kullanın.**"
      ],
      "metadata": {
        "id": "1e5ma0a0KD1j"
      }
    },
    {
      "cell_type": "code",
      "source": [
        "from datetime import date"
      ],
      "metadata": {
        "id": "LzoPN9zCaO9g"
      },
      "execution_count": 89,
      "outputs": []
    },
    {
      "cell_type": "code",
      "source": [
        "class Insan:\n",
        "  \"\"\"   Class Person\n",
        "  \n",
        "  isim,             str\n",
        "  soyisim,          str\n",
        "  dogum_yili,       int\n",
        "  kimlik_numarasi,  int\n",
        "  medeni_durumu,    bool\n",
        "  \"\"\"\n",
        "\n",
        "  \"\"\"Class Variables\"\"\"\n",
        "\n",
        "  isim:str = str()\n",
        "  soyisim:str = str()\n",
        "  dogum_yili:int = int()\n",
        "  kimlik_numarasi:int = int()\n",
        "  __medeni_durumu:bool = bool()\n",
        "\n",
        "  def __init__(self, isim, soyisim, d_yili, kimlik_numarasi, medeni_durumu):\n",
        "    \n",
        "    \"\"\"Constructor Method\"\"\"\n",
        "\n",
        "    \"\"\"Instance Variables\"\"\"\n",
        "\n",
        "    self.isim = isim\n",
        "    self.soyisim = soyisim\n",
        "    self.dogum_yili = d_yili\n",
        "    self.kimlik_numarasi = kimlik_numarasi\n",
        "    self.__medeni_durumu = medeni_durumu          # Encapsulation\n",
        "\n",
        "\n",
        "  def __repr__(self):\n",
        "    return f\"{self.isim}, {self.soyisim}\"\n",
        "\n",
        "\n",
        "  @property\n",
        "  def Yazdir(self):\n",
        "    \n",
        "    \"\"\"Yazdir Getter Method\"\"\"\n",
        "\n",
        "    return f\"{self.isim}, {self.soyisim}, {self.dogum_yili}, {self.kimlik_numarasi}, {self.__medeni_durumu}\"\n",
        "\n",
        "  @Yazdir.setter\n",
        "  def Yazdir(self, medeni_durumu):\n",
        "\n",
        "    \"\"\"Yazdir Setter Method\"\"\"\n",
        "\n",
        "    self.__medeni_durumu = medeni_durumu\n",
        "\n",
        "\n",
        "  @classmethod\n",
        "  def Gonder(cls, isim, soyisim, d_yili, kimlik_numarasi, medeni_durumu):\n",
        "\n",
        "    \"\"\"Gonder Class Method\"\"\"\n",
        "\n",
        "    return cls(isim, soyisim, d_yili, kimlik_numarasi, medeni_durumu) # return Insan(isim, soyisim, d_yili, kimlik_numarasi, medeni_durumu)\n",
        "\n",
        "\n",
        "  @staticmethod\n",
        "  def Yil():\n",
        "\n",
        "    \"\"\"Yil Static Method\"\"\"\n",
        "\n",
        "    return date.today().year\n",
        "\n",
        "  \n",
        "  def YasHesapla(self):\n",
        "\n",
        "    \"\"\"YasHesapla Method\"\"\"\n",
        "\n",
        "    return Insan.Yil() - self.dogum_yili \n",
        "\n",
        "  \n",
        "  def YasYazdir(self):\n",
        "\n",
        "    \"\"\"YasYazdir Method\"\"\"\n",
        "\n",
        "    return self.YasHesapla()\n",
        "\n",
        "\n",
        "  def SusleYazdir(func):\n",
        "    def wrapper(self):\n",
        "      print(\"*-\"*25)\n",
        "      print(func(self))\n",
        "      print(\"*-\"*25)\n",
        "    return wrapper\n",
        "\n",
        "  @SusleYazdir\n",
        "  def YazdirSusle(self):\n",
        "\n",
        "    \"\"\"YazdirSusle Method\"\"\"\n",
        "\n",
        "    return f\"{self.isim}, {self.soyisim}, {self.dogum_yili}, {self.kimlik_numarasi}, {self.__medeni_durumu}\""
      ],
      "metadata": {
        "id": "ZSgGkdEGXRXd"
      },
      "execution_count": 90,
      "outputs": []
    },
    {
      "cell_type": "code",
      "source": [
        "insan_1 = Insan(\"Mehmet\", \"SOLAK\", 2003, 17170022, False)\n",
        "\n",
        "insan_1.Yazdir"
      ],
      "metadata": {
        "colab": {
          "base_uri": "https://localhost:8080/",
          "height": 35
        },
        "id": "XG-wH-iHbXT-",
        "outputId": "aaab4631-1170-4502-e414-bf179d94bf40"
      },
      "execution_count": 91,
      "outputs": [
        {
          "output_type": "execute_result",
          "data": {
            "text/plain": [
              "'Mehmet, SOLAK, 2003, 17170022, False'"
            ],
            "application/vnd.google.colaboratory.intrinsic+json": {
              "type": "string"
            }
          },
          "metadata": {},
          "execution_count": 91
        }
      ]
    },
    {
      "cell_type": "code",
      "source": [
        "print(insan_1)  # __repr__"
      ],
      "metadata": {
        "colab": {
          "base_uri": "https://localhost:8080/"
        },
        "id": "ocWZ12z0h2Pj",
        "outputId": "0ce0ff57-50ab-4046-b7cc-ab7184364e7b"
      },
      "execution_count": 92,
      "outputs": [
        {
          "output_type": "stream",
          "name": "stdout",
          "text": [
            "Mehmet, SOLAK\n"
          ]
        }
      ]
    },
    {
      "cell_type": "code",
      "source": [
        "insan_1.Yazdir\n",
        "\n",
        "insan_1.Yazdir = True\n",
        "\n",
        "insan_1.Yazdir"
      ],
      "metadata": {
        "colab": {
          "base_uri": "https://localhost:8080/",
          "height": 35
        },
        "id": "giIWHenjbh15",
        "outputId": "d38cb0a5-ada4-466b-832d-44af8dff0065"
      },
      "execution_count": 93,
      "outputs": [
        {
          "output_type": "execute_result",
          "data": {
            "text/plain": [
              "'Mehmet, SOLAK, 2003, 17170022, True'"
            ],
            "application/vnd.google.colaboratory.intrinsic+json": {
              "type": "string"
            }
          },
          "metadata": {},
          "execution_count": 93
        }
      ]
    },
    {
      "cell_type": "code",
      "source": [
        "insan_2 = Insan.Gonder(\"Ali\", \"Velioglu\", 2001, 17170023, False)\n",
        "\n",
        "insan_2.Yazdir"
      ],
      "metadata": {
        "colab": {
          "base_uri": "https://localhost:8080/",
          "height": 35
        },
        "id": "Y8qBtHuYb8gJ",
        "outputId": "bc893c24-9dee-44bf-89f9-b59eea69ca44"
      },
      "execution_count": 94,
      "outputs": [
        {
          "output_type": "execute_result",
          "data": {
            "text/plain": [
              "'Ali, Velioglu, 2001, 17170023, False'"
            ],
            "application/vnd.google.colaboratory.intrinsic+json": {
              "type": "string"
            }
          },
          "metadata": {},
          "execution_count": 94
        }
      ]
    },
    {
      "cell_type": "code",
      "source": [
        "insan_1.YasHesapla()"
      ],
      "metadata": {
        "colab": {
          "base_uri": "https://localhost:8080/"
        },
        "id": "QnN717jtce1V",
        "outputId": "05a2cf6c-b094-4e6a-f86c-905f57e5ed7a"
      },
      "execution_count": 95,
      "outputs": [
        {
          "output_type": "execute_result",
          "data": {
            "text/plain": [
              "19"
            ]
          },
          "metadata": {},
          "execution_count": 95
        }
      ]
    },
    {
      "cell_type": "code",
      "source": [
        "insan_2.YasYazdir()"
      ],
      "metadata": {
        "colab": {
          "base_uri": "https://localhost:8080/"
        },
        "id": "SFpCdknicn8b",
        "outputId": "4f30d121-49dd-4447-b771-bf83b0495d2a"
      },
      "execution_count": 96,
      "outputs": [
        {
          "output_type": "execute_result",
          "data": {
            "text/plain": [
              "21"
            ]
          },
          "metadata": {},
          "execution_count": 96
        }
      ]
    },
    {
      "cell_type": "code",
      "source": [
        "insan_1.__medeni_durumu # Kapsullemeden dolayi erisemedik."
      ],
      "metadata": {
        "colab": {
          "base_uri": "https://localhost:8080/",
          "height": 166
        },
        "id": "PMJ7px_qcwLB",
        "outputId": "567f3965-a2b8-49aa-aa8e-fe6ca4155e90"
      },
      "execution_count": 97,
      "outputs": [
        {
          "output_type": "error",
          "ename": "AttributeError",
          "evalue": "ignored",
          "traceback": [
            "\u001b[0;31m---------------------------------------------------------------------------\u001b[0m",
            "\u001b[0;31mAttributeError\u001b[0m                            Traceback (most recent call last)",
            "\u001b[0;32m<ipython-input-97-d72c40ef9745>\u001b[0m in \u001b[0;36m<module>\u001b[0;34m\u001b[0m\n\u001b[0;32m----> 1\u001b[0;31m \u001b[0minsan_1\u001b[0m\u001b[0;34m.\u001b[0m\u001b[0m__medeni_durumu\u001b[0m \u001b[0;31m# Kapsullemeden dolayi erisemedik.\u001b[0m\u001b[0;34m\u001b[0m\u001b[0;34m\u001b[0m\u001b[0m\n\u001b[0m",
            "\u001b[0;31mAttributeError\u001b[0m: 'Insan' object has no attribute '__medeni_durumu'"
          ]
        }
      ]
    },
    {
      "cell_type": "code",
      "source": [
        "insan_1.isim"
      ],
      "metadata": {
        "colab": {
          "base_uri": "https://localhost:8080/",
          "height": 35
        },
        "id": "8ABpe2e5eb4K",
        "outputId": "5564b16f-0ab8-490d-f07c-818113a014d3"
      },
      "execution_count": 98,
      "outputs": [
        {
          "output_type": "execute_result",
          "data": {
            "text/plain": [
              "'Mehmet'"
            ],
            "application/vnd.google.colaboratory.intrinsic+json": {
              "type": "string"
            }
          },
          "metadata": {},
          "execution_count": 98
        }
      ]
    },
    {
      "cell_type": "code",
      "source": [
        "insan_1.YazdirSusle()"
      ],
      "metadata": {
        "colab": {
          "base_uri": "https://localhost:8080/"
        },
        "id": "Zw4Y7MyYe89n",
        "outputId": "2e46be8b-5cce-4480-af48-7d87f9756cf4"
      },
      "execution_count": 99,
      "outputs": [
        {
          "output_type": "stream",
          "name": "stdout",
          "text": [
            "*-*-*-*-*-*-*-*-*-*-*-*-*-*-*-*-*-*-*-*-*-*-*-*-*-\n",
            "Mehmet, SOLAK, 2003, 17170022, True\n",
            "*-*-*-*-*-*-*-*-*-*-*-*-*-*-*-*-*-*-*-*-*-*-*-*-*-\n"
          ]
        }
      ]
    }
  ]
}